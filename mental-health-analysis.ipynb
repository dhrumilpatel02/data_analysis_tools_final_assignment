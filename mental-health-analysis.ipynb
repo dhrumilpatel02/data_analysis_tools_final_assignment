{
 "cells": [
  {
   "cell_type": "code",
   "execution_count": 12,
   "metadata": {},
   "outputs": [
    {
     "name": "stdout",
     "output_type": "stream",
     "text": [
      "   States  Seek  Number 2\n",
      "0      AL   1.0         1\n",
      "1      AZ   1.0         1\n",
      "2      CA   1.0        43\n",
      "3      CO   1.0         2\n",
      "4      CT   1.0         1\n",
      "5      DC   1.0         1\n",
      "6      FL   1.0         4\n",
      "7      GA   1.0         5\n",
      "8      IL   1.0         7\n",
      "9      IN   1.0         6\n",
      "10     KY   1.0         1\n",
      "11     MA   1.0         2\n",
      "12     MI   1.0         2\n",
      "13     MN   1.0         5\n",
      "14     MO   1.0         1\n",
      "15     NC   1.0         3\n",
      "16     NE   1.0         1\n",
      "17     NH   1.0         1\n",
      "18     NJ   1.0         1\n",
      "19     NY   1.0        16\n",
      "20     OH   1.0         5\n",
      "21     OK   1.0         1\n",
      "22     OR   1.0        12\n",
      "23     PA   1.0         7\n",
      "24     SC   1.0         1\n",
      "25     SD   1.0         2\n",
      "26     TN   1.0         9\n",
      "27     TX   1.0         6\n",
      "28     UT   1.0         4\n",
      "29     VA   1.0         4\n",
      "30     WA   1.0        28\n",
      "31     WI   1.0         5\n",
      "   States  Treatment  Number 1\n",
      "0      AL          1         7\n",
      "1      AZ          1         6\n",
      "2      CA          1        86\n",
      "3      CO          1         4\n",
      "4      CT          1         2\n",
      "5      DC          1         1\n",
      "6      FL          1         8\n",
      "7      GA          1         6\n",
      "8      IA          1         3\n",
      "9      ID          1         1\n",
      "10     IL          1        19\n",
      "11     IN          1        13\n",
      "12     KY          1         1\n",
      "13     LA          1         1\n",
      "14     MA          1        10\n",
      "15     MD          1         2\n",
      "16     ME          1         1\n",
      "17     MI          1        10\n",
      "18     MN          1        12\n",
      "19     MO          1         4\n",
      "20     MS          1         1\n",
      "21     NC          1         7\n",
      "22     NE          1         1\n",
      "23     NH          1         2\n",
      "24     NJ          1         3\n",
      "25     NV          1         2\n",
      "26     NY          1        30\n",
      "27     OH          1        20\n",
      "28     OK          1         2\n",
      "29     OR          1        17\n",
      "30     PA          1        14\n",
      "31     SC          1         2\n",
      "32     SD          1         1\n",
      "33     TN          1        18\n",
      "34     TX          1        25\n",
      "35     UT          1         6\n",
      "36     VA          1         6\n",
      "37     WA          1        41\n",
      "38     WI          1         9\n",
      "39     WY          1         1\n"
     ]
    },
    {
     "data": {
      "text/plain": [
       "<matplotlib.axes._subplots.AxesSubplot at 0x19fe2d9a5f8>"
      ]
     },
     "execution_count": 12,
     "metadata": {},
     "output_type": "execute_result"
    },
    {
     "data": {
      "image/png": "[encoded data removed]",
      "text/plain": [
       "<Figure size 432x288 with 1 Axes>"
      ]
     },
     "metadata": {
      "needs_background": "light"
     },
     "output_type": "display_data"
    },
    {
     "data": {
      "image/png": "[encoded data removed]",
      "text/plain": [
       "<Figure size 432x288 with 1 Axes>"
      ]
     },
     "metadata": {
      "needs_background": "light"
     },
     "output_type": "display_data"
    }
   ],
   "source": [
    "# Import Libraries\n",
    "import pandas as pd\n",
    "import matplotlib as plt\n",
    "%matplotlib inline\n",
    "\n",
    "# Read CSV and store in two different dataframes\n",
    "df = pd.read_csv('survey.csv')\n",
    "fd = pd.read_csv('survey.csv')\n",
    "# Print first five values to see the whole dataset\n",
    "print(df.head())\n",
    "print(fd.head())\n",
    "\n",
    "# Rename seek_help Categorical values to Numerical values for smoother filtering\n",
    "df[\"seek_help\"] = df[\"seek_help\"].replace([\"Yes\", \"Don't know\", \"No\"], [1, 0.5, 0])\n",
    "df = df[df.seek_help==1]\n",
    "\n",
    "fd[\"treatment\"] = fd[\"treatment\"].replace([\"Yes\", \"No\"], [1, 0]) \n",
    "fd = fd[fd.treatment==1]\n",
    "\n",
    "# Filtering out null values from the column 'state' and selected the country as USA\n",
    "df = df[df['state'].notnull()]\n",
    "df = df[df.Country=='United States']\n",
    "\n",
    "fd = fd[fd['state'].notnull()]\n",
    "fd = fd[fd.Country=='United States']\n",
    "\n",
    "\n",
    "# Selecting values where employer provide resources to learn more about mental health issues and how to seek help\n",
    "seekhelp_df = df.groupby(['state', 'seek_help']).size().reset_index()\n",
    "seekhelp_df.columns = [\"States\", \"Seek\", \"Number 2\"]\n",
    "print(seekhelp_df)\n",
    "\n",
    "treatment_fd = fd.groupby(['state', 'treatment']).size().reset_index()\n",
    "treatment_fd.columns = [\"States\", \"Treatment\", \"Number 1\"]\n",
    "print(treatment_fd)\n",
    "\n",
    "# Plotting both values on a bar graph for comparing and correlation\n",
    "seekhelp_df.plot.bar(x='States',y='Number 2')\n",
    "\n",
    "treatment_fd.plot.bar(x='States',y='Number 1')\n"
   ]
  },
  {
   "cell_type": "code",
   "execution_count": null,
   "metadata": {},
   "outputs": [],
   "source": []
  }
 ],
 "metadata": {
  "kernelspec": {
   "display_name": "Python 3",
   "language": "python",
   "name": "python3"
  },
  "language_info": {
   "codemirror_mode": {
    "name": "ipython",
    "version": 3
   },
   "file_extension": ".py",
   "mimetype": "text/x-python",
   "name": "python",
   "nbconvert_exporter": "python",
   "pygments_lexer": "ipython3",
   "version": "3.7.3"
  }
 },
 "nbformat": 4,
 "nbformat_minor": 2
}
